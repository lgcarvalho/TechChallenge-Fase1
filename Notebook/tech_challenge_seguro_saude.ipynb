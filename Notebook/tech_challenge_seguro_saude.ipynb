{
 "cells": [
  {
   "cell_type": "markdown",
   "metadata": {},
   "source": [
    "# **1IADT - Tech Challenge - Fase 1**\n",
    "**Luiz Carvalho**\n",
    "\n",
    "---\n",
    "## **O Problema**\n",
    "Você é um profissional encarregado de desenvolver um modelo preditivo de regressão para prever o valor dos custos médicos individuais cobrados pelo seguro de saúde.\n",
    "\n",
    "A base de dados para este desafio é a **seguro_saude.csv** na pasta **Base de Dados**.\n",
    "\n",
    "## **Tarefas**\n",
    "\n",
    "### **Exploração de dados:**\n",
    "- Carregue a base de dados e explore suas características.\n",
    "- Analise estatísticas descritivas e visualize distribuições relevantes.\n",
    "\n",
    "### **Pré-processamento de dados:**\n",
    "- Realize a limpeza dos dados, tratando valores ausentes (se necessário).\n",
    "- Converta variáveis categóricas em formatos adequados para modelagem.\n",
    "\n",
    "### **Modelagem:**\n",
    "- Crie um modelo preditivo de regressão utilizando uma técnica à sua escolha (por exemplo, Regressão Linear, Árvore de Decisão, etc...).\n",
    "- Divida o conjunto de dados em conjuntos de treinamento e teste.\n",
    "\n",
    "### **Treinamento e avaliação do modelo:**\n",
    "- Treine o modelo com conjunto de treinamento.\n",
    "\n",
    "### **Validação estatística:**\n",
    "- Utilize métricas estatísticas para validar a eficácia do modelo (p-value, intervalos de confiança).\n",
    "---"
   ]
  },
  {
   "cell_type": "markdown",
   "metadata": {},
   "source": [
    "### **Instalando as bibliotecas necessárias.**"
   ]
  },
  {
   "cell_type": "code",
   "execution_count": null,
   "metadata": {},
   "outputs": [],
   "source": [
    "# !python -m pip install pandas\n",
    "# !python -m pip install matplotlib\n",
    "# !python -m pip install seaborn\n",
    "# !python -m pip install scikit-learn\n",
    "# !python -m pip install xgboost\n",
    "# !python -m pip install numpy"
   ]
  },
  {
   "cell_type": "markdown",
   "metadata": {},
   "source": [
    "### **Importando as bibliotecas necessárias.**"
   ]
  },
  {
   "cell_type": "code",
   "execution_count": null,
   "metadata": {},
   "outputs": [],
   "source": [
    "import pandas as pd\n",
    "import matplotlib.pyplot as plt\n",
    "import seaborn as sns\n",
    "import warnings\n",
    "import numpy as np\n",
    "\n",
    "from sklearn.preprocessing import LabelEncoder, OneHotEncoder, StandardScaler\n",
    "from sklearn.model_selection import train_test_split, cross_val_score, GridSearchCV\n",
    "from sklearn.compose import ColumnTransformer\n",
    "from sklearn.pipeline import Pipeline\n",
    "from sklearn.impute import SimpleImputer\n",
    "from sklearn.metrics import mean_absolute_error, r2_score, mean_squared_error\n",
    "from sklearn.ensemble import RandomForestRegressor\n",
    "from sklearn.linear_model import LinearRegression\n",
    "from sklearn.tree import DecisionTreeRegressor\n",
    "from sklearn.svm import SVR\n",
    "from xgboost import XGBRegressor\n",
    "\n",
    "warnings.filterwarnings('ignore')"
   ]
  },
  {
   "cell_type": "markdown",
   "metadata": {},
   "source": [
    "### **Exploração de dados.**"
   ]
  },
  {
   "cell_type": "markdown",
   "metadata": {},
   "source": [
    "**Lendo o arquivo de entrada.**"
   ]
  },
  {
   "cell_type": "code",
   "execution_count": null,
   "metadata": {},
   "outputs": [],
   "source": [
    "caminho_arquivo = '../Base de Dados/seguro_saude.csv'\n",
    "\n",
    "pd.set_option('display.max_columns', None)\n",
    "\n",
    "seguro_saude_df = pd.read_csv(caminho_arquivo)"
   ]
  },
  {
   "cell_type": "markdown",
   "metadata": {},
   "source": [
    "**Observações preliminares.**"
   ]
  },
  {
   "cell_type": "code",
   "execution_count": null,
   "metadata": {},
   "outputs": [],
   "source": [
    "seguro_saude_df.head()"
   ]
  },
  {
   "cell_type": "code",
   "execution_count": null,
   "metadata": {},
   "outputs": [],
   "source": [
    "seguro_saude_df.tail()"
   ]
  },
  {
   "cell_type": "code",
   "execution_count": null,
   "metadata": {},
   "outputs": [],
   "source": [
    "seguro_saude_df.shape"
   ]
  },
  {
   "cell_type": "code",
   "execution_count": null,
   "metadata": {},
   "outputs": [],
   "source": [
    "seguro_saude_df.describe()"
   ]
  },
  {
   "cell_type": "code",
   "execution_count": null,
   "metadata": {},
   "outputs": [],
   "source": [
    "seguro_saude_df.info()"
   ]
  },
  {
   "cell_type": "code",
   "execution_count": null,
   "metadata": {},
   "outputs": [],
   "source": [
    "seguro_saude_df.isnull().sum()"
   ]
  },
  {
   "cell_type": "markdown",
   "metadata": {},
   "source": [
    "Através das observações preliminares é possível validar que o dataset possue 1338 linhas e 7 colunas, destas 7 colunas 4 são númericas e 3 são categóricas e o dataset não possui valores faltantes ou nulos.\n",
    "\n",
    "Das colunas númericas é possível verificar que as pessoas possuem de 18 a 64 anos, um imc de 16 a 53, e na faixa de 1 a 5 filhos."
   ]
  },
  {
   "cell_type": "markdown",
   "metadata": {},
   "source": [
    "**Colunas numéricas**"
   ]
  },
  {
   "cell_type": "code",
   "execution_count": null,
   "metadata": {},
   "outputs": [],
   "source": [
    "# Listando as colunas númericas\n",
    "colunas_numericas = seguro_saude_df.select_dtypes(exclude=['object'])\n",
    "colunas_numericas.columns"
   ]
  },
  {
   "cell_type": "code",
   "execution_count": null,
   "metadata": {},
   "outputs": [],
   "source": [
    "# Quantidade de colunas númericas\n",
    "len(colunas_numericas.columns)"
   ]
  },
  {
   "cell_type": "markdown",
   "metadata": {},
   "source": [
    "Através da validação acima confirmamos que as colunas númericas realmente são 4, sendo as seguintes:\n",
    "- idade\n",
    "- imc\n",
    "- filhos\n",
    "- encargos\n",
    "\n",
    "As colunas númericas possuem as seguintes características gerais:"
   ]
  },
  {
   "cell_type": "code",
   "execution_count": null,
   "metadata": {},
   "outputs": [],
   "source": [
    "colunas_numericas.describe().round(2)"
   ]
  },
  {
   "cell_type": "markdown",
   "metadata": {},
   "source": [
    "**Colunas categóricas**"
   ]
  },
  {
   "cell_type": "code",
   "execution_count": null,
   "metadata": {},
   "outputs": [],
   "source": [
    "colunas_categoricas = seguro_saude_df.select_dtypes(include=['object'])\n",
    "colunas_categoricas.columns"
   ]
  },
  {
   "cell_type": "code",
   "execution_count": null,
   "metadata": {},
   "outputs": [],
   "source": [
    "len(colunas_categoricas.columns)"
   ]
  },
  {
   "cell_type": "markdown",
   "metadata": {},
   "source": [
    "Através da validação acima também confirmamos que as colunas categóricas são 3, sendo as seguintes:\n",
    "- gênero\n",
    "- fumante\n",
    "- região\n",
    "\n",
    "Pela separação das colunas númericas e categóricas vimos que não temos nenhuma coluna que foi separado de forma errada, ou seja, que deveria ser númerica e foi como categórica ou vice-versa.\n",
    "\n",
    "Com isso ficamos com a seguinte separação:\n",
    "\n",
    "Coluna Númerica\n",
    "- idade\n",
    "- imc\n",
    "- filhos\n",
    "- encargos\n",
    "\n",
    "Coluna Categórica\n",
    "- gênero\n",
    "- fumante\n",
    "- região"
   ]
  },
  {
   "cell_type": "markdown",
   "metadata": {},
   "source": [
    "**Explorando as colunas númericas.**"
   ]
  },
  {
   "cell_type": "code",
   "execution_count": null,
   "metadata": {},
   "outputs": [],
   "source": [
    "# Distribuição das colunas com histograma\n",
    "colunas_numericas.hist(bins=50, figsize=(20, 15))"
   ]
  },
  {
   "cell_type": "code",
   "execution_count": null,
   "metadata": {},
   "outputs": [],
   "source": [
    "# Distribuição das colunas com boxplot\n",
    "fig = plt.figure(figsize=(15, 25))\n",
    "\n",
    "for i in range(len(colunas_numericas.columns)):\n",
    "    fig.add_subplot(9, 4, i + 1)\n",
    "    \n",
    "    sns.boxplot(y=colunas_numericas.iloc[:, i])\n",
    "    \n",
    "plt.tight_layout()\n",
    "plt.show()"
   ]
  },
  {
   "cell_type": "markdown",
   "metadata": {},
   "source": [
    "Aparentemente minha coluna imc possui outliers acima do imc 47, vamos validar."
   ]
  },
  {
   "cell_type": "code",
   "execution_count": null,
   "metadata": {},
   "outputs": [],
   "source": [
    "Q1 = seguro_saude_df['imc'].quantile(0.25)\n",
    "Q3 = seguro_saude_df['imc'].quantile(0.75)\n",
    "\n",
    "IQR = Q3 - Q1\n",
    "\n",
    "# Definir limites\n",
    "limite_superior = Q3 + 1.5 * IQR\n",
    "\n",
    "print(limite_superior)"
   ]
  },
  {
   "cell_type": "markdown",
   "metadata": {},
   "source": [
    "Não vou retirar os outliers por conta da pouca quantidade de dados no dataset atual."
   ]
  },
  {
   "cell_type": "markdown",
   "metadata": {},
   "source": [
    "**Explorando as colunas categóricas.**"
   ]
  },
  {
   "cell_type": "markdown",
   "metadata": {},
   "source": [
    "**Coluna 'gênero'.**"
   ]
  },
  {
   "cell_type": "code",
   "execution_count": null,
   "metadata": {},
   "outputs": [],
   "source": [
    "set(seguro_saude_df['gênero'])"
   ]
  },
  {
   "cell_type": "code",
   "execution_count": null,
   "metadata": {},
   "outputs": [],
   "source": [
    "# Validando a frequência da coluna 'gênero'\n",
    "plt.figure(figsize=(12, 4))\n",
    "\n",
    "sns.countplot(x='gênero', data=seguro_saude_df)"
   ]
  },
  {
   "cell_type": "code",
   "execution_count": null,
   "metadata": {},
   "outputs": [],
   "source": [
    "# Calcular a contagem de frequência de cada categoria\n",
    "frequencia = seguro_saude_df['gênero'].value_counts()\n",
    "\n",
    "# Calcular a porcentagem de frequência de cada categoria\n",
    "porcentagem = (frequencia / len(seguro_saude_df)) * 100\n",
    "porcentagem = porcentagem.round(2)  # Arredondar para 2 casas decimais\n",
    "\n",
    "print(\"\\nPorcentagem de cada categoria:\")\n",
    "print(porcentagem)"
   ]
  },
  {
   "cell_type": "markdown",
   "metadata": {},
   "source": [
    "Podemos validar que a coluna 'gênero' possui 50.52% masculino e 49.48% feminino."
   ]
  },
  {
   "cell_type": "markdown",
   "metadata": {},
   "source": [
    "**Coluna 'fumante'.**"
   ]
  },
  {
   "cell_type": "code",
   "execution_count": null,
   "metadata": {},
   "outputs": [],
   "source": [
    "set(seguro_saude_df['fumante'])"
   ]
  },
  {
   "cell_type": "code",
   "execution_count": null,
   "metadata": {},
   "outputs": [],
   "source": [
    "# Validando a frequência da coluna 'fumante'\n",
    "plt.figure(figsize=(12, 4))\n",
    "\n",
    "sns.countplot(x='fumante', data=seguro_saude_df)"
   ]
  },
  {
   "cell_type": "code",
   "execution_count": null,
   "metadata": {},
   "outputs": [],
   "source": [
    "# Calcular a contagem de frequência de cada categoria\n",
    "frequencia = seguro_saude_df['fumante'].value_counts()\n",
    "\n",
    "# Calcular a porcentagem de frequência de cada categoria\n",
    "porcentagem = (frequencia / len(seguro_saude_df)) * 100\n",
    "porcentagem = porcentagem.round(2)  # Arredondar para 2 casas decimais\n",
    "\n",
    "print(\"\\nPorcentagem de cada categoria:\")\n",
    "print(porcentagem)"
   ]
  },
  {
   "cell_type": "markdown",
   "metadata": {},
   "source": [
    "Podemos validar que a coluna 'fumante' possui 20.48% de fumantes e 79.52% de não fumantes."
   ]
  },
  {
   "cell_type": "markdown",
   "metadata": {},
   "source": [
    "**Coluna 'região'.**"
   ]
  },
  {
   "cell_type": "code",
   "execution_count": null,
   "metadata": {},
   "outputs": [],
   "source": [
    "set(seguro_saude_df['região'])"
   ]
  },
  {
   "cell_type": "code",
   "execution_count": null,
   "metadata": {},
   "outputs": [],
   "source": [
    "# Validando a frequência da coluna 'região'\n",
    "plt.figure(figsize=(12, 4))\n",
    "\n",
    "sns.countplot(x='região', data=seguro_saude_df)"
   ]
  },
  {
   "cell_type": "code",
   "execution_count": null,
   "metadata": {},
   "outputs": [],
   "source": [
    "# Calcular a contagem de frequência de cada categoria\n",
    "frequencia = seguro_saude_df['região'].value_counts()\n",
    "\n",
    "# Calcular a porcentagem de frequência de cada categoria\n",
    "porcentagem = (frequencia / len(seguro_saude_df)) * 100\n",
    "porcentagem = porcentagem.round(2)  # Arredondar para 2 casas decimais\n",
    "\n",
    "print(\"\\nPorcentagem de cada categoria:\")\n",
    "print(porcentagem)"
   ]
  },
  {
   "cell_type": "markdown",
   "metadata": {},
   "source": [
    "Podemos validar que a coluna 'região' possui 27.20% de pessoas no sudeste, 24.29% no sudoeste, 24.29% no noroeste e 24.22% no nordeste."
   ]
  },
  {
   "cell_type": "markdown",
   "metadata": {},
   "source": [
    "Agora que vimos como está nossa distribuição das colunas númericas e categóricas, vamos realizar uma validação da nossa coluna target 'encargos' em relação as outras colunas do dataset."
   ]
  },
  {
   "cell_type": "markdown",
   "metadata": {},
   "source": [
    "**Validando os encargos separados por gênero:**"
   ]
  },
  {
   "cell_type": "code",
   "execution_count": null,
   "metadata": {},
   "outputs": [],
   "source": [
    "encargos_genero = seguro_saude_df['encargos'].groupby(seguro_saude_df['gênero']).sum().sort_values(ascending=True)\n",
    "encargos_genero.head()"
   ]
  },
  {
   "cell_type": "code",
   "execution_count": null,
   "metadata": {},
   "outputs": [],
   "source": [
    "import matplotlib.ticker as ticker\n",
    "\n",
    "f, ax = plt.subplots(figsize=(8, 6))\n",
    "\n",
    "ax = sns.barplot(x=encargos_genero.head(), y=encargos_genero.head().index, palette='viridis')\n",
    "\n",
    "ax.get_xaxis().set_major_formatter(ticker.FuncFormatter(lambda x, p: format(int(x), ',')))"
   ]
  },
  {
   "cell_type": "markdown",
   "metadata": {},
   "source": [
    "Através do gráfico vemos que as pessoas de gênero masculino possuem o maior total de encargos."
   ]
  },
  {
   "cell_type": "markdown",
   "metadata": {},
   "source": [
    "**Validando os encargos separados por fumante:**"
   ]
  },
  {
   "cell_type": "code",
   "execution_count": null,
   "metadata": {},
   "outputs": [],
   "source": [
    "encargos_fumante = seguro_saude_df['encargos'].groupby(seguro_saude_df['fumante']).sum().sort_values(ascending=True)\n",
    "encargos_fumante.head()"
   ]
  },
  {
   "cell_type": "code",
   "execution_count": null,
   "metadata": {},
   "outputs": [],
   "source": [
    "f, ax = plt.subplots(figsize=(8, 6))\n",
    "\n",
    "ax = sns.barplot(x=encargos_fumante.head(), y=encargos_fumante.head().index, palette='viridis')\n",
    "\n",
    "ax.get_xaxis().set_major_formatter(ticker.FuncFormatter(lambda x, p: format(int(x), ',')))"
   ]
  },
  {
   "cell_type": "markdown",
   "metadata": {},
   "source": [
    "Através do gráfico vemos que as pessoas fumantes ou não fumantes possuem praticamente o mesmo total de encargos. Porém, quando analisamos a distribuição da coluna 'fumante', vimos que a quantidade de pessoas não fumantes é 3x maior que a de fumantes.\n",
    "\n",
    "Então, possivelmente, pessoas que fumam possuem um encargo bem maior que as pessoas que não fumam."
   ]
  },
  {
   "cell_type": "markdown",
   "metadata": {},
   "source": [
    "**Validando os encargos separados por região:**"
   ]
  },
  {
   "cell_type": "code",
   "execution_count": null,
   "metadata": {},
   "outputs": [],
   "source": [
    "encargos_regiao = seguro_saude_df['encargos'].groupby(seguro_saude_df['região']).sum().sort_values(ascending=True)\n",
    "encargos_regiao.head()"
   ]
  },
  {
   "cell_type": "code",
   "execution_count": null,
   "metadata": {},
   "outputs": [],
   "source": [
    "f, ax = plt.subplots(figsize=(8, 6))\n",
    "\n",
    "ax = sns.barplot(x=encargos_regiao.head(), y=encargos_regiao.head().index, palette='viridis')\n",
    "\n",
    "ax.get_xaxis().set_major_formatter(ticker.FuncFormatter(lambda x, p: format(int(x), ',')))"
   ]
  },
  {
   "cell_type": "markdown",
   "metadata": {},
   "source": [
    "Através do gráfico é possível validar que a região sudeste possue o maior total de encargos entre as 4 regiões."
   ]
  },
  {
   "cell_type": "markdown",
   "metadata": {},
   "source": [
    "Levando ainda em consideração as regiões, vamos validar como fica em comparação com as colunas gênero, fumante e filhos:"
   ]
  },
  {
   "cell_type": "markdown",
   "metadata": {},
   "source": [
    "**Encargos por região e gênero:**"
   ]
  },
  {
   "cell_type": "code",
   "execution_count": null,
   "metadata": {},
   "outputs": [],
   "source": [
    "f, ax = plt.subplots(1, 1, figsize=(8, 6))\n",
    "\n",
    "ax = sns.barplot(x='região', y='encargos', hue='gênero', data=seguro_saude_df, palette='viridis')"
   ]
  },
  {
   "cell_type": "markdown",
   "metadata": {},
   "source": [
    "Apenas na região noroeste o encargo se equipara entre o gênero feminino e masculino, no restante das regiões o gênero masculino possui o maior valor de encargo."
   ]
  },
  {
   "cell_type": "markdown",
   "metadata": {},
   "source": [
    "**Encargos por região e fumante:**"
   ]
  },
  {
   "cell_type": "code",
   "execution_count": null,
   "metadata": {},
   "outputs": [],
   "source": [
    "f, ax = plt.subplots(figsize=(8, 6))\n",
    "\n",
    "ax = sns.barplot(x='região', y='encargos', hue='fumante', data=seguro_saude_df, palette='viridis')"
   ]
  },
  {
   "cell_type": "markdown",
   "metadata": {},
   "source": [
    "Entre todas as regiões parece que uma pessoa fumante possui um valor de encargo maior. Isso confirma o que vimos no gráfico de encargo por fumante."
   ]
  },
  {
   "cell_type": "markdown",
   "metadata": {},
   "source": [
    "**Encargos por região e filhos:**"
   ]
  },
  {
   "cell_type": "code",
   "execution_count": null,
   "metadata": {},
   "outputs": [],
   "source": [
    "f, ax = plt.subplots(figsize=(8, 6))\n",
    "\n",
    "ax = sns.barplot(x='região', y='encargos', hue='filhos', data=seguro_saude_df, palette='viridis')"
   ]
  },
  {
   "cell_type": "markdown",
   "metadata": {},
   "source": [
    "Entre as regiões, em geral, as pessoas que possuem mais de 2 filhos tendem a ter um encargo mais alto."
   ]
  },
  {
   "cell_type": "markdown",
   "metadata": {},
   "source": [
    "Como uma pessoa que é fumante apresentou a maior variação de encargo, vamos analisar os encargos pela idade, imc e filhos com o fato de fumar."
   ]
  },
  {
   "cell_type": "markdown",
   "metadata": {},
   "source": [
    "**Encargos por fumante e idade**"
   ]
  },
  {
   "cell_type": "code",
   "execution_count": null,
   "metadata": {},
   "outputs": [],
   "source": [
    "ax = sns.lmplot(x='idade', y='encargos', data=seguro_saude_df, hue='fumante', palette='viridis', height=6, aspect=1.5)"
   ]
  },
  {
   "cell_type": "markdown",
   "metadata": {},
   "source": [
    "**Encargos por fumante e imc**"
   ]
  },
  {
   "cell_type": "code",
   "execution_count": null,
   "metadata": {},
   "outputs": [],
   "source": [
    "ax = sns.lmplot(x='imc', y='encargos', data=seguro_saude_df, hue='fumante', palette='viridis', height=6, aspect=1.5)"
   ]
  },
  {
   "cell_type": "markdown",
   "metadata": {},
   "source": [
    "**Encargos por fumante e filhos**"
   ]
  },
  {
   "cell_type": "code",
   "execution_count": null,
   "metadata": {},
   "outputs": [],
   "source": [
    "ax = sns.lmplot(x='filhos', y='encargos', data=seguro_saude_df, hue='fumante', palette='viridis', height=6, aspect=1.5)"
   ]
  },
  {
   "cell_type": "markdown",
   "metadata": {},
   "source": [
    "Através dos gráficos, comparando os encargos de uma pessoa fumante ou não em relação a idade, imc e filhos, é possível validar que, em todos os casos, uma pessoa fumante sempre vai ter um encargo maior.\n",
    "\n",
    "Com isso parece que nossa coluna fumante pode ser uma possível candidata para uma correlação alta com nossa target 'encargos'. Vamos validar?"
   ]
  },
  {
   "cell_type": "markdown",
   "metadata": {},
   "source": [
    "**Correlação**"
   ]
  },
  {
   "cell_type": "markdown",
   "metadata": {},
   "source": [
    "Através das análises gráficas conseguimos ver, inicialmente, que o maior fator para que um encargo seja alto é se a pessoa fuma.\n",
    "\n",
    "Vamos validar, através de um heatmap, se realmente é isso?"
   ]
  },
  {
   "cell_type": "markdown",
   "metadata": {},
   "source": [
    "Primeiro vamos transformar nossas colunas categóricas em númericas com o LabelEncoder."
   ]
  },
  {
   "cell_type": "code",
   "execution_count": null,
   "metadata": {},
   "outputs": [],
   "source": [
    "label_encoder = LabelEncoder()\n",
    "\n",
    "seguro_saude_df_encoded = seguro_saude_df.copy()\n",
    "\n",
    "for coluna in colunas_categoricas:\n",
    "    seguro_saude_df_encoded[coluna] = label_encoder.fit_transform(seguro_saude_df_encoded[coluna])\n",
    "\n",
    "seguro_saude_df_encoded.head()"
   ]
  },
  {
   "cell_type": "code",
   "execution_count": null,
   "metadata": {},
   "outputs": [],
   "source": [
    "f, ax = plt.subplots(figsize=(10, 8))\n",
    "\n",
    "ax = sns.heatmap(seguro_saude_df_encoded.corr(), annot=True, fmt='.2f', cmap='coolwarm')"
   ]
  },
  {
   "cell_type": "markdown",
   "metadata": {},
   "source": [
    "Pelo heatmap vimos que realmente fumante tem uma grande relação com os encargos, porém vamos utilizar o OneHotEncoding para saber se pessoas que fumam ou não fumam possuem essa correlação de 0.79."
   ]
  },
  {
   "cell_type": "code",
   "execution_count": null,
   "metadata": {},
   "outputs": [],
   "source": [
    "seguro_saude_df_dummies = pd.get_dummies(seguro_saude_df, drop_first=True)\n",
    "seguro_saude_df_dummies.head()"
   ]
  },
  {
   "cell_type": "code",
   "execution_count": null,
   "metadata": {},
   "outputs": [],
   "source": [
    "f, ax = plt.subplots(figsize=(10, 8))\n",
    "\n",
    "ax = sns.heatmap(seguro_saude_df_dummies.corr(), annot=True, fmt='.2f', cmap='coolwarm')"
   ]
  },
  {
   "cell_type": "markdown",
   "metadata": {},
   "source": [
    "O heatmap aponta exatamente o que vimos nos gráficos, que pessoas fumantes tem uma grande correlação com o valor dos encargos.\n",
    "\n",
    "Outras correlações que podemos verificar, também, é com idade e imc, apesar de não serem muito altas."
   ]
  },
  {
   "cell_type": "markdown",
   "metadata": {},
   "source": [
    "### **Pré-processamento de dados.**"
   ]
  },
  {
   "cell_type": "markdown",
   "metadata": {},
   "source": [
    "**Separando os dados em treino e teste**"
   ]
  },
  {
   "cell_type": "markdown",
   "metadata": {},
   "source": [
    "A separação do dataset em teste e treino será da seguinte forma:\n",
    "\n",
    "- x -> Minhas colunas independentes.\n",
    "- y -> Minha coluna target."
   ]
  },
  {
   "cell_type": "code",
   "execution_count": null,
   "metadata": {},
   "outputs": [],
   "source": [
    "X = seguro_saude_df.drop('encargos', axis=1)\n",
    "X.head()"
   ]
  },
  {
   "cell_type": "code",
   "execution_count": null,
   "metadata": {},
   "outputs": [],
   "source": [
    "y = seguro_saude_df['encargos']\n",
    "y.head()"
   ]
  },
  {
   "cell_type": "markdown",
   "metadata": {},
   "source": [
    "Vou criar um preprocessor para realizar as seguintes ações:\n",
    "- **SimpleImputer**: Alterando todos os valores faltantes e nulos pela média da coluna, no caso das colunas númericas, e pelo mais comum, no caso das colunas categóricas.\n",
    "- **StantardScaler**: Scalonar os valores númericos.\n",
    "- **OneHotEncoder**: Transformar as colunas categóricas em númericas.\n",
    "\n",
    "Apesar de nosso dataset não possuir valores faltantes ou nulos vou deixar o SimpleImputer no meu preprocessor."
   ]
  },
  {
   "cell_type": "code",
   "execution_count": null,
   "metadata": {},
   "outputs": [],
   "source": [
    "colunas_numericas = ['idade', 'imc', 'filhos']\n",
    "colunas_numericas_transf = Pipeline(steps=[\n",
    "    ('imputer', SimpleImputer(strategy='median')),\n",
    "    ('StandardScaler', StandardScaler())])\n",
    "\n",
    "colunas_categoricas = ['gênero', 'fumante', 'região']\n",
    "colunas_categoricas_transf = Pipeline(steps=[\n",
    "    ('imputer', SimpleImputer(strategy='most_frequent')),\n",
    "    ('onehot', OneHotEncoder())])\n",
    "\n",
    "preprocessor = ColumnTransformer(transformers=[\n",
    "    ('num', colunas_numericas_transf, colunas_numericas),\n",
    "    ('cat', colunas_categoricas_transf, colunas_categoricas)])"
   ]
  },
  {
   "cell_type": "markdown",
   "metadata": {},
   "source": [
    "Irei deixar 80% do meu dataset para treino e 20% para teste."
   ]
  },
  {
   "cell_type": "code",
   "execution_count": null,
   "metadata": {},
   "outputs": [],
   "source": [
    "X_treino, X_teste, y_treino, y_teste = train_test_split(X, y, test_size=0.2, random_state=42)\n",
    "\n",
    "print(X_treino.shape, X_teste.shape, y_treino.shape, y_teste.shape)"
   ]
  },
  {
   "cell_type": "markdown",
   "metadata": {},
   "source": [
    "Utilizando o meu preprocessor para transformar as bases de teste e treino."
   ]
  },
  {
   "cell_type": "code",
   "execution_count": null,
   "metadata": {},
   "outputs": [],
   "source": [
    "X_treino_preprocessado = preprocessor.fit_transform(X_treino)\n",
    "X_teste_preprocessado = preprocessor.transform(X_teste)"
   ]
  },
  {
   "cell_type": "markdown",
   "metadata": {},
   "source": [
    "### **Modelagem.**"
   ]
  },
  {
   "cell_type": "markdown",
   "metadata": {},
   "source": [
    "**Validando modelos de regressão**"
   ]
  },
  {
   "cell_type": "markdown",
   "metadata": {},
   "source": [
    "Primeiro vou criar uma função para treinar e retornar as métricas do modelo.\n",
    "\n",
    "Será utilizado as seguintes métricas:\n",
    "- MAE (Erro Médio Absoluto)\n",
    "- MSE (Erro Quadrático Médio)\n",
    "- RMSE (Raiz Quadrada do Erro Quadrático Médio)\n",
    "- R2 Score (Coeficiente de Determinação)"
   ]
  },
  {
   "cell_type": "code",
   "execution_count": null,
   "metadata": {},
   "outputs": [],
   "source": [
    "def treinar_modelo(modelo, X_treino, y_treino, X_teste, y_teste):\n",
    "    modelo.fit(X_treino, y_treino)\n",
    "    \n",
    "    predicao = modelo.predict(X_teste)\n",
    "    \n",
    "    mae = mean_absolute_error(y_teste, predicao)\n",
    "\n",
    "    mse = mean_squared_error(y_teste, predicao)\n",
    "\n",
    "    rmse = np.sqrt(mse)\n",
    "\n",
    "    r2 = r2_score(y_teste, predicao)\n",
    "    \n",
    "    return mae, mse, rmse, r2"
   ]
  },
  {
   "cell_type": "markdown",
   "metadata": {},
   "source": [
    "Vou verificar, utilizando alguns modelos de regressão, como cada um vai se sair nas métricas de predição.\n",
    "\n",
    "Modelos:\n",
    "- **Linear Regression**\n",
    "- **Random Forest Regression**\n",
    "- **XGBoost**\n",
    "- **Support Vector Regression**\n",
    "- **Decision Tree Regression**\n"
   ]
  },
  {
   "cell_type": "code",
   "execution_count": null,
   "metadata": {},
   "outputs": [],
   "source": [
    "comparacao = pd.DataFrame(columns=['MAE', 'MSE', 'RMSE', 'R2'])\n",
    "comparacao.index.name = 'Modelo'\n",
    "\n",
    "# Linear Regression\n",
    "linear_regression = LinearRegression()\n",
    "\n",
    "lr_mae, lr_mse, lr_rmse, lr_r2 = treinar_modelo(linear_regression, X_treino_preprocessado, y_treino, X_teste_preprocessado, y_teste)\n",
    "\n",
    "comparacao.loc['Linear Regression'] = [lr_mae, lr_mse, lr_rmse, lr_r2]\n",
    "\n",
    "# Random Forest\n",
    "random_forest_regressor = RandomForestRegressor(random_state=42)\n",
    "\n",
    "rf_mae, rf_mse, rf_rmse, rf_r2 = treinar_modelo(random_forest_regressor, X_treino_preprocessado, y_treino, X_teste_preprocessado, y_teste)\n",
    "\n",
    "comparacao.loc['Random Forest'] = [rf_mae, rf_mse, rf_rmse, rf_r2]\n",
    "\n",
    "# XGBoost\n",
    "xgb_regressor = XGBRegressor(random_state=42)\n",
    "\n",
    "xgb_mae, xgb_mse, xgb_rmse, xgb_r2 = treinar_modelo(xgb_regressor, X_treino_preprocessado, y_treino, X_teste_preprocessado, y_teste)\n",
    "\n",
    "comparacao.loc['XGBoost'] = [xgb_mae, xgb_mse, xgb_rmse, xgb_r2]\n",
    "\n",
    "# Support Vector Regression\n",
    "svr = SVR()\n",
    "\n",
    "svr_mae, svr_mse, svr_rmse, svr_r2 = treinar_modelo(svr, X_treino_preprocessado, y_treino, X_teste_preprocessado, y_teste)\n",
    "\n",
    "comparacao.loc['Support Vector Regression'] = [svr_mae, svr_mse, svr_rmse, svr_r2]\n",
    "\n",
    "# Decision Tree Regression\n",
    "decision_tree_regressor = DecisionTreeRegressor(random_state=42)\n",
    "\n",
    "dt_mae, dt_mse, dt_rmse, dt_r2 = treinar_modelo(decision_tree_regressor, X_treino_preprocessado, y_treino, X_teste_preprocessado, y_teste)\n",
    "\n",
    "comparacao.loc['Decision Tree Regression'] = [dt_mae, dt_mse, dt_rmse, dt_r2]"
   ]
  },
  {
   "cell_type": "code",
   "execution_count": null,
   "metadata": {},
   "outputs": [],
   "source": [
    "comparacao.head()"
   ]
  },
  {
   "cell_type": "markdown",
   "metadata": {},
   "source": [
    "Nos testes iniciais o modelo que obteve as melhores métricas é o RandomForest."
   ]
  },
  {
   "cell_type": "markdown",
   "metadata": {},
   "source": [
    "Vamos validar, através de um gráfico, o desempenho dos modelos."
   ]
  },
  {
   "cell_type": "code",
   "execution_count": null,
   "metadata": {},
   "outputs": [],
   "source": [
    "fig, axes = plt.subplots(nrows=len(comparacao.columns), ncols=1, figsize=(10, 6 * len(comparacao.columns)))\n",
    "\n",
    "for i, coluna in enumerate(comparacao.columns):\n",
    "    axes[i].plot(comparacao.index, comparacao[coluna], marker='o')\n",
    "    axes[i].set_title(f'Comparação dos Modelos - {coluna}')\n",
    "    axes[i].set_xlabel('Modelo')\n",
    "    axes[i].set_ylabel(coluna)\n",
    "    axes[i].tick_params(axis='x', rotation=45)\n",
    "    axes[i].grid()\n",
    "\n",
    "plt.tight_layout()\n",
    "plt.show()"
   ]
  },
  {
   "cell_type": "markdown",
   "metadata": {},
   "source": [
    "Através dos retornos das métricas e também dos gráficos chegamos aos 3 melhores modelos:\n",
    "- Random Forest\n",
    "- XGBoost\n",
    "- Linear Regression"
   ]
  },
  {
   "cell_type": "markdown",
   "metadata": {},
   "source": [
    "**Validação cruzada**\n",
    "\n",
    "Utilizando a validação cruzada vou verificar a média e o desvio padrão dos scores:"
   ]
  },
  {
   "cell_type": "markdown",
   "metadata": {},
   "source": [
    "Primeiro vamos pre-processar o conjunto de dados X."
   ]
  },
  {
   "cell_type": "code",
   "execution_count": null,
   "metadata": {},
   "outputs": [],
   "source": [
    "X_preprocessado = preprocessor.fit_transform(X)"
   ]
  },
  {
   "cell_type": "code",
   "execution_count": null,
   "metadata": {},
   "outputs": [],
   "source": [
    "modelos = ['RandomForest', 'XGBoost', 'LinearRegression']\n",
    "\n",
    "n_folds = 10\n",
    "\n",
    "validacao_cruzada = pd.DataFrame(columns=['Média', 'Desvio Padrão'])\n",
    "validacao_cruzada.index.name = 'Modelo'\n",
    "\n",
    "for modelo in modelos:\n",
    "    modelo_predicao = None\n",
    "\n",
    "    if modelo == 'RandomForest':\n",
    "        modelo_predicao = RandomForestRegressor(random_state=42)\n",
    "    elif modelo == 'XGBoost':\n",
    "        modelo_predicao = XGBRegressor(random_state=42)\n",
    "    elif modelo == 'LinearRegression':\n",
    "        modelo_predicao = LinearRegression()\n",
    "\n",
    "    score = cross_val_score(modelo_predicao, X_preprocessado, y, cv=n_folds)\n",
    "\n",
    "    validacao_cruzada.loc[modelo] = [score.mean(), score.std()]"
   ]
  },
  {
   "cell_type": "code",
   "execution_count": null,
   "metadata": {},
   "outputs": [],
   "source": [
    "validacao_cruzada.head()"
   ]
  },
  {
   "cell_type": "markdown",
   "metadata": {},
   "source": [
    "Vamos validar em um gráfico como ficou os resultados:"
   ]
  },
  {
   "cell_type": "code",
   "execution_count": null,
   "metadata": {},
   "outputs": [],
   "source": [
    "fig, axes = plt.subplots(nrows=len(validacao_cruzada.columns), ncols=1, figsize=(10, 6 * len(validacao_cruzada.columns)))\n",
    "\n",
    "for i, coluna in enumerate(validacao_cruzada.columns):\n",
    "    axes[i].plot(validacao_cruzada.index, validacao_cruzada[coluna], marker='o')\n",
    "    axes[i].set_title(f'Comparação dos Modelos - {coluna}')\n",
    "    axes[i].set_xlabel('Modelo')\n",
    "    axes[i].set_ylabel(coluna)\n",
    "    axes[i].tick_params(axis='x', rotation=45)\n",
    "    axes[i].grid()\n",
    "\n",
    "plt.tight_layout()\n",
    "plt.show()"
   ]
  },
  {
   "cell_type": "markdown",
   "metadata": {},
   "source": [
    "O Modelo RandomForest apresentou os melhores resultados com uma Média de 0.84 e o Desvio Padrão de 0.46. Com isso ele será utilizado para meu modelo final."
   ]
  },
  {
   "cell_type": "markdown",
   "metadata": {},
   "source": [
    "**Ajustes finos no modelo.**"
   ]
  },
  {
   "cell_type": "markdown",
   "metadata": {},
   "source": [
    "Utilizando o GridSeachCV vamos validar quais são os hiperparâmetros que melhor performam no RandomForest."
   ]
  },
  {
   "cell_type": "code",
   "execution_count": null,
   "metadata": {},
   "outputs": [],
   "source": [
    "modelo_final = RandomForestRegressor()\n",
    "\n",
    "hiperparam_grid = {\n",
    "    'n_estimators': [100, 200, 300, 500],\n",
    "    'max_depth': [None, 5, 10, 20],\n",
    "    'min_samples_split': [2, 5, 10],\n",
    "    'min_samples_leaf': [1, 2, 4],\n",
    "    'max_features': ['auto', 'sqrt', 'log2']\n",
    "}\n",
    "\n",
    "grid_search = GridSearchCV(modelo_final, hiperparam_grid, cv=10, scoring='r2', n_jobs=-1)\n",
    "grid_search.fit(X_preprocessado, y)"
   ]
  },
  {
   "cell_type": "markdown",
   "metadata": {},
   "source": [
    "Verificando quais foram os melhores hiperparâmetros e o melhor R2-Score."
   ]
  },
  {
   "cell_type": "code",
   "execution_count": null,
   "metadata": {},
   "outputs": [],
   "source": [
    "grid_search.best_params_"
   ]
  },
  {
   "cell_type": "code",
   "execution_count": null,
   "metadata": {},
   "outputs": [],
   "source": [
    "grid_search.best_score_"
   ]
  },
  {
   "cell_type": "markdown",
   "metadata": {},
   "source": [
    "Com isso vamos criar nosso modelo final de predição:"
   ]
  },
  {
   "cell_type": "code",
   "execution_count": null,
   "metadata": {},
   "outputs": [],
   "source": [
    "modelo_final = RandomForestRegressor(max_depth=10, \n",
    "                                     max_features='sqrt', \n",
    "                                     min_samples_leaf=2,\n",
    "                                     min_samples_split=5,\n",
    "                                     n_estimators=500,\n",
    "                                     random_state=42)"
   ]
  },
  {
   "cell_type": "markdown",
   "metadata": {},
   "source": [
    "### **Treinamento e avaliação do modelo.**"
   ]
  },
  {
   "cell_type": "markdown",
   "metadata": {},
   "source": [
    "Vamos treinar o nosso modelo final e depois validar como ficou a predição com os dados de teste."
   ]
  },
  {
   "cell_type": "code",
   "execution_count": null,
   "metadata": {},
   "outputs": [],
   "source": [
    "modelo_final.fit(X_treino_preprocessado, y_treino)\n",
    "\n",
    "modelo_final_pred = modelo_final.predict(X_teste_preprocessado)\n",
    "\n",
    "modelo_final_mse = mean_squared_error(y_teste, modelo_final_pred)\n",
    "\n",
    "modelo_final_rmse = np.sqrt(modelo_final_mse)\n",
    "\n",
    "modelo_final_mae = mean_absolute_error(y_teste, modelo_final_pred)\n",
    "modelo_final_r2 = r2_score(y_teste, modelo_final_pred)\n",
    "\n",
    "print(f'RMSE: {modelo_final_rmse}')\n",
    "print(f'MAE: {modelo_final_mae}')\n",
    "print(f'R2-Score: {modelo_final_r2}')"
   ]
  },
  {
   "cell_type": "markdown",
   "metadata": {},
   "source": [
    "Criando o Pipeline com o preprocessamento e o modelo final."
   ]
  },
  {
   "cell_type": "code",
   "execution_count": null,
   "metadata": {},
   "outputs": [],
   "source": [
    "pipeline = Pipeline(steps=[('preprocessor', preprocessor),\n",
    "                        ('model', modelo_final)])"
   ]
  },
  {
   "cell_type": "markdown",
   "metadata": {},
   "source": [
    "Testando meu pipeline:"
   ]
  },
  {
   "cell_type": "code",
   "execution_count": null,
   "metadata": {},
   "outputs": [],
   "source": [
    "pipeline.fit(X_treino, y_treino)\n",
    "\n",
    "predicao = pipeline.predict(X_teste)"
   ]
  },
  {
   "cell_type": "markdown",
   "metadata": {},
   "source": [
    "Gravando minhas predições em um arquivo csv:"
   ]
  },
  {
   "cell_type": "code",
   "execution_count": null,
   "metadata": {},
   "outputs": [],
   "source": [
    "arquivo_predicao = pd.DataFrame({'encargos_teste': y_teste,\n",
    "                                 'encargos_predicao': predicao})\n",
    "\n",
    "arquivo_predicao.to_csv('..\\Base de Dados\\encargos_preditos.csv', index=False)"
   ]
  },
  {
   "cell_type": "markdown",
   "metadata": {},
   "source": [
    "### **Validação estatística.**"
   ]
  },
  {
   "cell_type": "markdown",
   "metadata": {},
   "source": [
    "Utilizando a validação cruzada para verificar a média e o desvio padrão do meu modelo final."
   ]
  },
  {
   "cell_type": "code",
   "execution_count": null,
   "metadata": {},
   "outputs": [],
   "source": [
    "# Validação cruzada\n",
    "score_final = cross_val_score(pipeline, X, y, cv=10)\n",
    "\n",
    "media_score_final = score_final.mean()\n",
    "desvio_padrao_score_final = score_final.std()\n",
    "\n",
    "print(f'Média: {media_score_final}')\n",
    "print(f'Desvio Padrão: {desvio_padrao_score_final}')"
   ]
  },
  {
   "cell_type": "markdown",
   "metadata": {},
   "source": [
    "Verificando através de um gráfico scatter como ficou a relação entre os valores reais e as predições."
   ]
  },
  {
   "cell_type": "code",
   "execution_count": null,
   "metadata": {},
   "outputs": [],
   "source": [
    "plt.scatter(y_teste, predicao, color='red', alpha=0.5, label='Predição')\n",
    "plt.scatter(y_teste, y_teste, color='blue', alpha=0.5, label='Valor Real')\n",
    "plt.xlabel('Valores Reais')\n",
    "plt.ylabel('Predições')\n",
    "plt.title('Valores Reais vs. Predições')\n",
    "plt.legend()\n",
    "plt.show()"
   ]
  }
 ],
 "metadata": {
  "kernelspec": {
   "display_name": "ia_devs",
   "language": "python",
   "name": "python3"
  },
  "language_info": {
   "codemirror_mode": {
    "name": "ipython",
    "version": 3
   },
   "file_extension": ".py",
   "mimetype": "text/x-python",
   "name": "python",
   "nbconvert_exporter": "python",
   "pygments_lexer": "ipython3",
   "version": "3.12.0"
  }
 },
 "nbformat": 4,
 "nbformat_minor": 2
}
