{
 "cells": [
  {
   "cell_type": "markdown",
   "metadata": {},
   "source": [
    "# **Tech Challenge - Fase 1**\n",
    "\n",
    "---\n",
    "\n",
    "## **O Problema**\n",
    "Você é um profissional encarregado de desenvolver um modelo preditivo de regressão para prever o valor dos custos médicos individuais cobrados pelo seguro de saúde.\n",
    "\n",
    "A base de dados para este desafio é a **seguro_saude.csv** na pasta **Base de Dados**.\n",
    "\n",
    "---\n",
    "\n",
    "## **Tarefas**\n",
    "\n",
    "### **Exploração de dados:**\n",
    "- Carregue a base de dados e explore suas características.\n",
    "- Analise estatísticas descritivas e visualize distribuições relevantes.\n",
    "\n",
    "### **Pré-processamento de dados:**\n",
    "- Realize a limpeza dos dados, tratando valores ausentes (se necessário).\n",
    "- Converta variáveis categóricas em formatos adequados para modelagem.\n",
    "\n",
    "### **Modelagem:**\n",
    "- Crie um modelo preditivo de regressão utilizando uma técnica à sua escolha (por exemplo, Regressão Linear, Árvore de Decisão, etc...).\n",
    "- Divida o conjunto de dados em conjuntos de treinamento e teste.\n",
    "\n",
    "### **Treinamento e avaliação do modelo:**\n",
    "- Treine o modelo com conjunto de treinamento.\n",
    "\n",
    "### **Validação estatística:**\n",
    "- Utilize métricas estatísticas para validar a eficácia do modelo (p-value, intervalos de confiança).\n",
    "\n",
    "---"
   ]
  }
 ],
 "metadata": {
  "language_info": {
   "name": "python"
  }
 },
 "nbformat": 4,
 "nbformat_minor": 2
}
